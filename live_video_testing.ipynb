{
 "cells": [
  {
   "cell_type": "markdown",
   "id": "b3becafa-ed88-4ddb-bbd0-a1981d1859ba",
   "metadata": {},
   "source": [
    "# Yash Meshram\n",
    "# Computer Vision & Internet of Things\n",
    "# The Sparks Foundation\n",
    "#\n",
    "## Task : Detection of face mask\n",
    "#\n",
    "## Testing the model on live video"
   ]
  },
  {
   "cell_type": "code",
   "execution_count": 1,
   "id": "4fa91cc5-224b-4ea6-886a-c74d2586eb03",
   "metadata": {},
   "outputs": [],
   "source": [
    "from tensorflow.keras.applications.mobilenet_v2 import preprocess_input\n",
    "from tensorflow.keras.preprocessing.image import img_to_array\n",
    "from tensorflow.keras.models import load_model\n",
    "import numpy as np\n",
    "import cv2\n",
    "import os\n",
    "\n",
    "from imutils.video import VideoStream\n",
    "import imutils"
   ]
  },
  {
   "cell_type": "code",
   "execution_count": 2,
   "id": "d32c405d-4bd9-4893-a6d4-647c8fdffd5c",
   "metadata": {},
   "outputs": [],
   "source": [
    "def detect_and_predict_mask(frame, faceNet, maskNet):\n",
    "    # grab the dimensions of the frame and then construct the blob\n",
    "    (h, w) = frame.shape[:2]\n",
    "    blob = cv2.dnn.blobFromImage(frame, 1.0, (300, 300), (104.0, 177.0, 123.0))\n",
    "    \n",
    "    faceNet.setInput(blob)\n",
    "    detections = faceNet.forward()\n",
    "    \n",
    "    #initialize our list of faces, their corresponding locations and list of predictions\n",
    "    faces = []\n",
    "    locs = []\n",
    "    preds = []\n",
    "    \n",
    "    for i in range(0, detections.shape[2]):\n",
    "        confidence = detections[0, 0, i, 2]\n",
    "    \n",
    "        if confidence > 0.5:\n",
    "            # we need the x and y co-ordinates\n",
    "            box = detections[0, 0, i, 3:7]*np.array([w, h, w, h])\n",
    "            (startX, startY, endX, endY) = box.astype('int')\n",
    "\n",
    "            # we need to ensure that the bounding boxes fall within the dimensions of the frame\n",
    "            (startX, startY) = (max(0, startX), max(0, startY))\n",
    "            (endX, endY) = (min(w-1, endX), min(h-1, endY))\n",
    "\n",
    "            # extract the face ROI, convert it from BGR to RGB channel\n",
    "            # resize it to (224, 224) and preprocess it\n",
    "\n",
    "            face = frame[startY:endY, startX:endX]\n",
    "            face = cv2.cvtColor(face, cv2.COLOR_BGR2RGB)\n",
    "            face = cv2.resize(face, (224, 224))\n",
    "            face = img_to_array(face)\n",
    "            face = preprocess_input(face)\n",
    "\n",
    "            faces.append(face)\n",
    "            locs.append((startX, startY, endX, endY))\n",
    "\n",
    "        #only make a predictions if atleast one face is detected\n",
    "        if len(faces) > 0:\n",
    "            faces = np.array(faces, dtype = 'float32')\n",
    "            preds = maskNet.predict(faces, batch_size = 12)\n",
    "\n",
    "        return (locs, preds)"
   ]
  },
  {
   "cell_type": "code",
   "execution_count": 3,
   "id": "2481102b-a43f-4e5e-a5a9-7a56bae50693",
   "metadata": {},
   "outputs": [],
   "source": [
    "prototxtPath = os.path.sep.join([r'/home/yash-meshram/Documents/GitHub/mask-detection/face_detector/', 'deploy.prototxt'])\n",
    "weightsPath = os.path.sep.join([r'/home/yash-meshram/Documents/GitHub/mask-detection/face_detector', 'res10_300x300_ssd_iter_140000.caffemodel'])"
   ]
  },
  {
   "cell_type": "code",
   "execution_count": 4,
   "id": "854d591d-3120-489f-b68b-af5492b82670",
   "metadata": {},
   "outputs": [],
   "source": [
    "faceNet = cv2.dnn.readNet(prototxtPath, weightsPath)"
   ]
  },
  {
   "cell_type": "code",
   "execution_count": 5,
   "id": "fe15562d-e697-4d37-b21d-d64509b19ea9",
   "metadata": {},
   "outputs": [],
   "source": [
    "maskNet = load_model(r'/home/yash-meshram/Documents/GitHub/mask-detection/mobilenet_v2.model')"
   ]
  },
  {
   "cell_type": "code",
   "execution_count": 6,
   "id": "ee02b1e7-aa4e-40ae-9fda-e32549fc00d6",
   "metadata": {},
   "outputs": [],
   "source": [
    "vs = VideoStream(src = 0).start()\n",
    "\n",
    "while True:\n",
    "    \n",
    "    #grab teh frame from teh threded videostream and resize it\n",
    "    #to have a maximum width of 400 pixel\n",
    "    frame = vs.read()\n",
    "    frame = imutils.resize(frame, width = 400)\n",
    "    \n",
    "    #detect faces in teh frame and predict if they are wearing mask or not\n",
    "    (locs, preds) = detect_and_predict_mask(frame, faceNet, maskNet)\n",
    "    \n",
    "#     if len(locs) > 0:\n",
    "    \n",
    "    #loop over the detected face locations and their corresponding locations\n",
    "    for (box, pred) in zip(locs, preds):\n",
    "        (startX, startY, endX, endY) = box\n",
    "        (mask, withoutMask) = pred\n",
    "\n",
    "        # determine teh class label and color we will use to draw the bounding box and text\n",
    "        label = 'Mask' if mask > withoutMask else 'No Mask'\n",
    "        color = (0, 255, 0) if label == 'Mask' else (0, 0, 255)\n",
    "\n",
    "        # lets include teh probability of teh label\n",
    "        label = '{} : {:.2f}%'.format(label, max(mask, withoutMask)*100)\n",
    "\n",
    "        #display the label and the bounding boxes\n",
    "        cv2.putText(frame, label, (startX, startY-10), \n",
    "                    cv2.FONT_HERSHEY_SIMPLEX, 0.45, color, 2)\n",
    "        cv2.rectangle(frame, (startX, startY), (endX, endY), color, 2)\n",
    "\n",
    "#     else:\n",
    "#         pass\n",
    "        \n",
    "    #show the output frame\n",
    "    cv2.imshow('Frame', frame)\n",
    "    key = cv2.waitKey(1) & 0xFF\n",
    "    \n",
    "    if key == ord('q'):\n",
    "        break\n",
    "\n",
    "cv2.destroyAllWindows()\n",
    "vs.stop()"
   ]
  },
  {
   "cell_type": "code",
   "execution_count": null,
   "id": "cd3c0d13-3d21-40cd-85e4-db543b97e19e",
   "metadata": {},
   "outputs": [],
   "source": []
  }
 ],
 "metadata": {
  "kernelspec": {
   "display_name": "Python 3",
   "language": "python",
   "name": "python3"
  },
  "language_info": {
   "codemirror_mode": {
    "name": "ipython",
    "version": 3
   },
   "file_extension": ".py",
   "mimetype": "text/x-python",
   "name": "python",
   "nbconvert_exporter": "python",
   "pygments_lexer": "ipython3",
   "version": "3.8.8"
  }
 },
 "nbformat": 4,
 "nbformat_minor": 5
}
